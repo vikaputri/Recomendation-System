{
 "cells": [
  {
   "cell_type": "code",
   "execution_count": 1,
   "metadata": {
    "_cell_guid": "b1076dfc-b9ad-4769-8c92-a6c4dae69d19",
    "_uuid": "8f2839f25d086af736a60e9eeb907d3b93b6e0e5",
    "execution": {
     "iopub.execute_input": "2020-10-05T12:45:41.812125Z",
     "iopub.status.busy": "2020-10-05T12:45:41.811520Z",
     "iopub.status.idle": "2020-10-05T12:45:41.819017Z",
     "shell.execute_reply": "2020-10-05T12:45:41.818391Z"
    },
    "papermill": {
     "duration": 0.019578,
     "end_time": "2020-10-05T12:45:41.819121",
     "exception": false,
     "start_time": "2020-10-05T12:45:41.799543",
     "status": "completed"
    },
    "tags": []
   },
   "outputs": [
    {
     "name": "stdout",
     "output_type": "stream",
     "text": [
      "/kaggle/input/laptops-info/Final_Dataframe.csv\n"
     ]
    }
   ],
   "source": [
    "import pandas as pd\n",
    "\n",
    "import os\n",
    "for dirname, _, filenames in os.walk('/kaggle/input'):\n",
    "    for filename in filenames:\n",
    "        print(os.path.join(dirname, filename))"
   ]
  },
  {
   "cell_type": "code",
   "execution_count": 2,
   "metadata": {
    "_cell_guid": "79c7e3d0-c299-4dcb-8224-4455121ee9b0",
    "_uuid": "d629ff2d2480ee46fbb7e2d37f6b5fab8052498a",
    "execution": {
     "iopub.execute_input": "2020-10-05T12:45:41.836725Z",
     "iopub.status.busy": "2020-10-05T12:45:41.836153Z",
     "iopub.status.idle": "2020-10-05T12:45:41.849416Z",
     "shell.execute_reply": "2020-10-05T12:45:41.848808Z"
    },
    "papermill": {
     "duration": 0.023317,
     "end_time": "2020-10-05T12:45:41.849534",
     "exception": false,
     "start_time": "2020-10-05T12:45:41.826217",
     "status": "completed"
    },
    "tags": []
   },
   "outputs": [],
   "source": [
    "data = pd.read_csv('/kaggle/input/laptops-info/Final_Dataframe.csv', sep=',' ,encoding='latin-1', usecols=['laptop_name', 'processor_type'])"
   ]
  },
  {
   "cell_type": "code",
   "execution_count": 3,
   "metadata": {
    "execution": {
     "iopub.execute_input": "2020-10-05T12:45:41.874628Z",
     "iopub.status.busy": "2020-10-05T12:45:41.874028Z",
     "iopub.status.idle": "2020-10-05T12:45:41.880745Z",
     "shell.execute_reply": "2020-10-05T12:45:41.880226Z"
    },
    "papermill": {
     "duration": 0.02468,
     "end_time": "2020-10-05T12:45:41.880849",
     "exception": false,
     "start_time": "2020-10-05T12:45:41.856169",
     "status": "completed"
    },
    "tags": []
   },
   "outputs": [
    {
     "data": {
      "text/html": [
       "<div>\n",
       "<style scoped>\n",
       "    .dataframe tbody tr th:only-of-type {\n",
       "        vertical-align: middle;\n",
       "    }\n",
       "\n",
       "    .dataframe tbody tr th {\n",
       "        vertical-align: top;\n",
       "    }\n",
       "\n",
       "    .dataframe thead th {\n",
       "        text-align: right;\n",
       "    }\n",
       "</style>\n",
       "<table border=\"1\" class=\"dataframe\">\n",
       "  <thead>\n",
       "    <tr style=\"text-align: right;\">\n",
       "      <th></th>\n",
       "      <th>laptop_name</th>\n",
       "      <th>processor_type</th>\n",
       "    </tr>\n",
       "  </thead>\n",
       "  <tbody>\n",
       "    <tr>\n",
       "      <th>0</th>\n",
       "      <td>Notebook 14-df0008nx</td>\n",
       "      <td>Intel Celeron N4000</td>\n",
       "    </tr>\n",
       "  </tbody>\n",
       "</table>\n",
       "</div>"
      ],
      "text/plain": [
       "            laptop_name        processor_type\n",
       "0  Notebook 14-df0008nx   Intel Celeron N4000"
      ]
     },
     "execution_count": 3,
     "metadata": {},
     "output_type": "execute_result"
    }
   ],
   "source": [
    "data.head(1)"
   ]
  },
  {
   "cell_type": "code",
   "execution_count": 4,
   "metadata": {
    "execution": {
     "iopub.execute_input": "2020-10-05T12:45:41.906469Z",
     "iopub.status.busy": "2020-10-05T12:45:41.905711Z",
     "iopub.status.idle": "2020-10-05T12:45:41.909408Z",
     "shell.execute_reply": "2020-10-05T12:45:41.909874Z"
    },
    "papermill": {
     "duration": 0.021485,
     "end_time": "2020-10-05T12:45:41.910007",
     "exception": false,
     "start_time": "2020-10-05T12:45:41.888522",
     "status": "completed"
    },
    "tags": []
   },
   "outputs": [
    {
     "data": {
      "text/html": [
       "<div>\n",
       "<style scoped>\n",
       "    .dataframe tbody tr th:only-of-type {\n",
       "        vertical-align: middle;\n",
       "    }\n",
       "\n",
       "    .dataframe tbody tr th {\n",
       "        vertical-align: top;\n",
       "    }\n",
       "\n",
       "    .dataframe thead th {\n",
       "        text-align: right;\n",
       "    }\n",
       "</style>\n",
       "<table border=\"1\" class=\"dataframe\">\n",
       "  <thead>\n",
       "    <tr style=\"text-align: right;\">\n",
       "      <th></th>\n",
       "      <th>laptop_name</th>\n",
       "      <th>processor_type</th>\n",
       "      <th>spec</th>\n",
       "    </tr>\n",
       "  </thead>\n",
       "  <tbody>\n",
       "    <tr>\n",
       "      <th>0</th>\n",
       "      <td>Notebook 14-df0008nx</td>\n",
       "      <td>Intel Celeron N4000</td>\n",
       "      <td>Intel Celeron N4000</td>\n",
       "    </tr>\n",
       "  </tbody>\n",
       "</table>\n",
       "</div>"
      ],
      "text/plain": [
       "            laptop_name        processor_type                  spec\n",
       "0  Notebook 14-df0008nx   Intel Celeron N4000   Intel Celeron N4000"
      ]
     },
     "execution_count": 4,
     "metadata": {},
     "output_type": "execute_result"
    }
   ],
   "source": [
    "data['spec'] = data['processor_type']\n",
    "data.head(1)"
   ]
  },
  {
   "cell_type": "code",
   "execution_count": 5,
   "metadata": {
    "execution": {
     "iopub.execute_input": "2020-10-05T12:45:41.929312Z",
     "iopub.status.busy": "2020-10-05T12:45:41.928727Z",
     "iopub.status.idle": "2020-10-05T12:45:42.794237Z",
     "shell.execute_reply": "2020-10-05T12:45:42.793605Z"
    },
    "papermill": {
     "duration": 0.876882,
     "end_time": "2020-10-05T12:45:42.794348",
     "exception": false,
     "start_time": "2020-10-05T12:45:41.917466",
     "status": "completed"
    },
    "tags": []
   },
   "outputs": [
    {
     "data": {
      "text/plain": [
       "(205, 31)"
      ]
     },
     "execution_count": 5,
     "metadata": {},
     "output_type": "execute_result"
    }
   ],
   "source": [
    "from sklearn.feature_extraction.text import TfidfVectorizer\n",
    "\n",
    "tfidf = TfidfVectorizer(token_pattern = '[a-zA-Z0-9\\-]+')\n",
    "tfidf_matrix = tfidf.fit_transform(data['spec'])\n",
    "tfidf_matrix.shape"
   ]
  },
  {
   "cell_type": "code",
   "execution_count": 6,
   "metadata": {
    "execution": {
     "iopub.execute_input": "2020-10-05T12:45:42.814270Z",
     "iopub.status.busy": "2020-10-05T12:45:42.813648Z",
     "iopub.status.idle": "2020-10-05T12:45:42.860466Z",
     "shell.execute_reply": "2020-10-05T12:45:42.860893Z"
    },
    "papermill": {
     "duration": 0.058633,
     "end_time": "2020-10-05T12:45:42.861039",
     "exception": false,
     "start_time": "2020-10-05T12:45:42.802406",
     "status": "completed"
    },
    "tags": []
   },
   "outputs": [
    {
     "data": {
      "text/plain": [
       "(205, 205)"
      ]
     },
     "execution_count": 6,
     "metadata": {},
     "output_type": "execute_result"
    }
   ],
   "source": [
    "from sklearn.metrics.pairwise import linear_kernel\n",
    "\n",
    "cosine_sim = linear_kernel(tfidf_matrix, tfidf_matrix)\n",
    "cosine_sim.shape"
   ]
  },
  {
   "cell_type": "code",
   "execution_count": 7,
   "metadata": {
    "execution": {
     "iopub.execute_input": "2020-10-05T12:45:42.883864Z",
     "iopub.status.busy": "2020-10-05T12:45:42.883266Z",
     "iopub.status.idle": "2020-10-05T12:45:42.885687Z",
     "shell.execute_reply": "2020-10-05T12:45:42.885106Z"
    },
    "papermill": {
     "duration": 0.016395,
     "end_time": "2020-10-05T12:45:42.885787",
     "exception": false,
     "start_time": "2020-10-05T12:45:42.869392",
     "status": "completed"
    },
    "tags": []
   },
   "outputs": [],
   "source": [
    "def recommendations(title, cosine_sim = cosine_sim):\n",
    "    idx = data.loc[data['laptop_name'].isin([title])]\n",
    "    idx = idx.index\n",
    "    sim_scores = list(enumerate(cosine_sim[idx][0]))\n",
    "    sim_scores = sorted(sim_scores, key=lambda x: x[1], reverse=True)\n",
    "    sim_scores = sim_scores[1:3]\n",
    "    indices = [i[0] for i in sim_scores]\n",
    "    return data['laptop_name'].iloc[indices]"
   ]
  },
  {
   "cell_type": "code",
   "execution_count": 8,
   "metadata": {
    "execution": {
     "iopub.execute_input": "2020-10-05T12:45:42.912407Z",
     "iopub.status.busy": "2020-10-05T12:45:42.911743Z",
     "iopub.status.idle": "2020-10-05T12:45:42.915120Z",
     "shell.execute_reply": "2020-10-05T12:45:42.914547Z"
    },
    "papermill": {
     "duration": 0.021046,
     "end_time": "2020-10-05T12:45:42.915217",
     "exception": false,
     "start_time": "2020-10-05T12:45:42.894171",
     "status": "completed"
    },
    "tags": []
   },
   "outputs": [
    {
     "name": "stdout",
     "output_type": "stream",
     "text": [
      "Vostro 5471\n",
      "Swift 5 SF514-52TP-8933\n"
     ]
    }
   ],
   "source": [
    "x = 'IdeaPad 330'\n",
    "result = recommendations(x)\n",
    "result = result.values.tolist()\n",
    "for hasil in result:\n",
    "    print(hasil)"
   ]
  },
  {
   "cell_type": "code",
   "execution_count": 9,
   "metadata": {
    "execution": {
     "iopub.execute_input": "2020-10-05T12:45:42.937519Z",
     "iopub.status.busy": "2020-10-05T12:45:42.936889Z",
     "iopub.status.idle": "2020-10-05T12:45:43.086500Z",
     "shell.execute_reply": "2020-10-05T12:45:43.085848Z"
    },
    "papermill": {
     "duration": 0.16273,
     "end_time": "2020-10-05T12:45:43.086613",
     "exception": false,
     "start_time": "2020-10-05T12:45:42.923883",
     "status": "completed"
    },
    "tags": []
   },
   "outputs": [],
   "source": [
    "from sklearn.neighbors import KNeighborsClassifier\n",
    "\n",
    "def get_label(id):\n",
    "    classifier = KNeighborsClassifier(n_neighbors=5)\n",
    "    x = tfidf_matrix\n",
    "    y = data.iloc[:,-1]\n",
    "    classifier.fit(x, y)\n",
    "    y_pred = classifier.predict(tfidf_matrix[id])\n",
    "    return y_pred"
   ]
  },
  {
   "cell_type": "code",
   "execution_count": 10,
   "metadata": {
    "execution": {
     "iopub.execute_input": "2020-10-05T12:45:43.116571Z",
     "iopub.status.busy": "2020-10-05T12:45:43.115966Z",
     "iopub.status.idle": "2020-10-05T12:45:43.644754Z",
     "shell.execute_reply": "2020-10-05T12:45:43.645273Z"
    },
    "papermill": {
     "duration": 0.549531,
     "end_time": "2020-10-05T12:45:43.645428",
     "exception": false,
     "start_time": "2020-10-05T12:45:43.095897",
     "status": "completed"
    },
    "tags": []
   },
   "outputs": [
    {
     "name": "stdout",
     "output_type": "stream",
     "text": [
      "Hit:0.7317073170731707\n",
      "Fault:0.2682926829268293\n"
     ]
    }
   ],
   "source": [
    "true_count = 0\n",
    "false_count = 0\n",
    "def evaluate_content_based_model():\n",
    "    for key, colums in data.iterrows():\n",
    "        recommended_by_model = recommendations(colums[\"laptop_name\"])\n",
    "        predicted  = get_label(recommended_by_model.index)\n",
    "        for predicteds in predicted:\n",
    "            global true_count, false_count\n",
    "            if predicteds == colums[\"spec\"]:\n",
    "                true_count = true_count+1\n",
    "            else:\n",
    "                false_count = false_count +1\n",
    "evaluate_content_based_model()\n",
    "total = true_count + false_count\n",
    "print(\"Hit:\"+ str(true_count/total))\n",
    "print(\"Fault:\" + str(false_count/total))"
   ]
  }
 ],
 "metadata": {
  "kernelspec": {
   "display_name": "Python 3",
   "language": "python",
   "name": "python3"
  },
  "language_info": {
   "codemirror_mode": {
    "name": "ipython",
    "version": 3
   },
   "file_extension": ".py",
   "mimetype": "text/x-python",
   "name": "python",
   "nbconvert_exporter": "python",
   "pygments_lexer": "ipython3",
   "version": "3.7.6"
  },
  "papermill": {
   "duration": 5.932486,
   "end_time": "2020-10-05T12:45:43.760764",
   "environment_variables": {},
   "exception": null,
   "input_path": "__notebook__.ipynb",
   "output_path": "__notebook__.ipynb",
   "parameters": {},
   "start_time": "2020-10-05T12:45:37.828278",
   "version": "2.1.0"
  }
 },
 "nbformat": 4,
 "nbformat_minor": 4
}
